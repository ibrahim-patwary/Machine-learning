{
 "cells": [
  {
   "cell_type": "code",
   "execution_count": 1,
   "id": "f453cc33",
   "metadata": {},
   "outputs": [],
   "source": [
    "import numpy as np\n",
    "import pandas as pd\n",
    "import matplotlib.pyplot as plt"
   ]
  },
  {
   "cell_type": "code",
   "execution_count": 2,
   "id": "c7d60c84",
   "metadata": {},
   "outputs": [],
   "source": [
    "from sklearn.linear_model import LogisticRegression\n",
    "from sklearn.svm import SVC\n",
    "from sklearn.ensemble import RandomForestClassifier"
   ]
  },
  {
   "cell_type": "code",
   "execution_count": 3,
   "id": "25d5dd83",
   "metadata": {},
   "outputs": [],
   "source": [
    "from sklearn.datasets import load_digits\n",
    "digits = load_digits()"
   ]
  },
  {
   "cell_type": "code",
   "execution_count": 4,
   "id": "cd903ef1",
   "metadata": {},
   "outputs": [
    {
     "data": {
      "text/plain": [
       "['DESCR', 'data', 'feature_names', 'frame', 'images', 'target', 'target_names']"
      ]
     },
     "execution_count": 4,
     "metadata": {},
     "output_type": "execute_result"
    }
   ],
   "source": [
    "dir(digits)"
   ]
  },
  {
   "cell_type": "markdown",
   "id": "6d85474d",
   "metadata": {},
   "source": [
    "# Use KFold for our digits example"
   ]
  },
  {
   "cell_type": "code",
   "execution_count": 5,
   "id": "90d8ee9f",
   "metadata": {},
   "outputs": [],
   "source": [
    "def get_score(model, X_train, X_test, y_train, y_test):\n",
    "    model.fit(X_train, y_train)\n",
    "    return model.score(X_test, y_test)"
   ]
  },
  {
   "cell_type": "code",
   "execution_count": 6,
   "id": "1b09e013",
   "metadata": {},
   "outputs": [],
   "source": [
    "from sklearn.model_selection import StratifiedKFold\n",
    "folds = StratifiedKFold(n_splits=8)\n",
    "\n",
    "scores_logistic = []\n",
    "scores_svm = []\n",
    "scores_rf = []\n",
    "\n",
    "for train_index, test_index in folds.split(digits.data,digits.target):\n",
    "    X_train, X_test, y_train, y_test = digits.data[train_index], digits.data[test_index], \\\n",
    "                                       digits.target[train_index], digits.target[test_index]\n",
    "    scores_logistic.append(get_score(LogisticRegression(solver='liblinear',multi_class='ovr'), X_train, X_test, y_train, y_test))  \n",
    "    scores_svm.append(get_score(SVC(gamma='auto'), X_train, X_test, y_train, y_test))\n",
    "    scores_rf.append(get_score(RandomForestClassifier(n_estimators=40), X_train, X_test, y_train, y_test))"
   ]
  },
  {
   "cell_type": "markdown",
   "id": "9a0c9058",
   "metadata": {},
   "source": [
    "# Logistic Regression Score"
   ]
  },
  {
   "cell_type": "code",
   "execution_count": 7,
   "id": "0191a2b7",
   "metadata": {},
   "outputs": [
    {
     "data": {
      "text/plain": [
       "[0.92,\n",
       " 0.9644444444444444,\n",
       " 0.8844444444444445,\n",
       " 0.9466666666666667,\n",
       " 0.96,\n",
       " 0.9464285714285714,\n",
       " 0.9330357142857143,\n",
       " 0.8928571428571429]"
      ]
     },
     "execution_count": 7,
     "metadata": {},
     "output_type": "execute_result"
    }
   ],
   "source": [
    " scores_logistic"
   ]
  },
  {
   "cell_type": "markdown",
   "id": "c3cec632",
   "metadata": {},
   "source": [
    "# For Average Score"
   ]
  },
  {
   "cell_type": "code",
   "execution_count": 8,
   "id": "28e488bc",
   "metadata": {},
   "outputs": [],
   "source": [
    "ser_lr = pd.Series( scores_logistic)"
   ]
  },
  {
   "cell_type": "code",
   "execution_count": 9,
   "id": "9f0c0872",
   "metadata": {},
   "outputs": [
    {
     "data": {
      "text/plain": [
       "0    0.920000\n",
       "1    0.964444\n",
       "2    0.884444\n",
       "3    0.946667\n",
       "4    0.960000\n",
       "5    0.946429\n",
       "6    0.933036\n",
       "7    0.892857\n",
       "dtype: float64"
      ]
     },
     "execution_count": 9,
     "metadata": {},
     "output_type": "execute_result"
    }
   ],
   "source": [
    "ser_lr"
   ]
  },
  {
   "cell_type": "code",
   "execution_count": 10,
   "id": "e362da21",
   "metadata": {},
   "outputs": [
    {
     "data": {
      "text/plain": [
       "0.9309846230158731"
      ]
     },
     "execution_count": 10,
     "metadata": {},
     "output_type": "execute_result"
    }
   ],
   "source": [
    "ser_lr.mean()"
   ]
  },
  {
   "cell_type": "code",
   "execution_count": 11,
   "id": "bbc5f679",
   "metadata": {},
   "outputs": [
    {
     "data": {
      "text/plain": [
       "0.9309846230158731"
      ]
     },
     "execution_count": 11,
     "metadata": {},
     "output_type": "execute_result"
    }
   ],
   "source": [
    "sums =0\n",
    "for x in  scores_logistic :\n",
    "    sums = sums + x\n",
    "avg = sums/len(scores_logistic)\n",
    "avg"
   ]
  },
  {
   "cell_type": "markdown",
   "id": "f4427dee",
   "metadata": {},
   "source": [
    "# Support Vector Machine"
   ]
  },
  {
   "cell_type": "code",
   "execution_count": 12,
   "id": "d2d2f6fd",
   "metadata": {},
   "outputs": [
    {
     "data": {
      "text/plain": [
       "[0.41333333333333333,\n",
       " 0.5377777777777778,\n",
       " 0.4177777777777778,\n",
       " 0.4533333333333333,\n",
       " 0.40444444444444444,\n",
       " 0.5044642857142857,\n",
       " 0.6517857142857143,\n",
       " 0.4419642857142857]"
      ]
     },
     "execution_count": 12,
     "metadata": {},
     "output_type": "execute_result"
    }
   ],
   "source": [
    "scores_svm"
   ]
  },
  {
   "cell_type": "code",
   "execution_count": 13,
   "id": "365022da",
   "metadata": {},
   "outputs": [
    {
     "data": {
      "text/plain": [
       "0    0.413333\n",
       "1    0.537778\n",
       "2    0.417778\n",
       "3    0.453333\n",
       "4    0.404444\n",
       "5    0.504464\n",
       "6    0.651786\n",
       "7    0.441964\n",
       "dtype: float64"
      ]
     },
     "execution_count": 13,
     "metadata": {},
     "output_type": "execute_result"
    }
   ],
   "source": [
    "ser_svm = pd.Series( scores_svm)\n",
    "ser_svm"
   ]
  },
  {
   "cell_type": "code",
   "execution_count": 14,
   "id": "adf2d5e6",
   "metadata": {},
   "outputs": [
    {
     "data": {
      "text/plain": [
       "0.478110119047619"
      ]
     },
     "execution_count": 14,
     "metadata": {},
     "output_type": "execute_result"
    }
   ],
   "source": [
    "ser_svm.mean()"
   ]
  },
  {
   "cell_type": "markdown",
   "id": "0e81b30e",
   "metadata": {},
   "source": [
    "# Random Forest"
   ]
  },
  {
   "cell_type": "code",
   "execution_count": 15,
   "id": "b4012e24",
   "metadata": {},
   "outputs": [
    {
     "data": {
      "text/plain": [
       "0    0.920000\n",
       "1    0.977778\n",
       "2    0.911111\n",
       "3    0.951111\n",
       "4    0.960000\n",
       "5    0.982143\n",
       "6    0.973214\n",
       "7    0.888393\n",
       "dtype: float64"
      ]
     },
     "execution_count": 15,
     "metadata": {},
     "output_type": "execute_result"
    }
   ],
   "source": [
    "ser_rf = pd.Series( scores_rf)\n",
    "ser_rf"
   ]
  },
  {
   "cell_type": "code",
   "execution_count": 16,
   "id": "b7c8d121",
   "metadata": {},
   "outputs": [
    {
     "data": {
      "text/plain": [
       "0.9454687499999999"
      ]
     },
     "execution_count": 16,
     "metadata": {},
     "output_type": "execute_result"
    }
   ],
   "source": [
    "ser_rf.mean()"
   ]
  },
  {
   "cell_type": "markdown",
   "id": "56cf4e07",
   "metadata": {},
   "source": [
    "# Cross_val_score function"
   ]
  },
  {
   "cell_type": "markdown",
   "id": "432f3a23",
   "metadata": {},
   "source": [
    "# Logistic regression model performance using cross_val_score"
   ]
  },
  {
   "cell_type": "code",
   "execution_count": 18,
   "id": "3633d3c0",
   "metadata": {},
   "outputs": [],
   "source": [
    "from sklearn.model_selection import cross_val_score"
   ]
  },
  {
   "cell_type": "code",
   "execution_count": 22,
   "id": "d7a581ef",
   "metadata": {},
   "outputs": [],
   "source": [
    "cross_val_score_logistic=cross_val_score(LogisticRegression(solver='liblinear',multi_class='ovr'), digits.data, digits.target, cv =8)"
   ]
  },
  {
   "cell_type": "code",
   "execution_count": 23,
   "id": "9f3e9514",
   "metadata": {},
   "outputs": [
    {
     "data": {
      "text/plain": [
       "array([0.92      , 0.96444444, 0.88444444, 0.94666667, 0.96      ,\n",
       "       0.94642857, 0.93303571, 0.89285714])"
      ]
     },
     "execution_count": 23,
     "metadata": {},
     "output_type": "execute_result"
    }
   ],
   "source": [
    "cross_val_score_logistic"
   ]
  },
  {
   "cell_type": "code",
   "execution_count": 24,
   "id": "a0f5ce06",
   "metadata": {},
   "outputs": [
    {
     "data": {
      "text/plain": [
       "0.930984623015873"
      ]
     },
     "execution_count": 24,
     "metadata": {},
     "output_type": "execute_result"
    }
   ],
   "source": [
    "cross_val_score_logistic.mean()"
   ]
  },
  {
   "cell_type": "markdown",
   "id": "fb2ef7eb",
   "metadata": {},
   "source": [
    "# Support Vectore Machine model performance using cross_val_score"
   ]
  },
  {
   "cell_type": "code",
   "execution_count": 25,
   "id": "270c6d48",
   "metadata": {},
   "outputs": [],
   "source": [
    "cross_val_score_svm=cross_val_score(SVC(gamma='auto'), digits.data, digits.target,cv=8)"
   ]
  },
  {
   "cell_type": "code",
   "execution_count": 26,
   "id": "ef8c1bdf",
   "metadata": {},
   "outputs": [
    {
     "data": {
      "text/plain": [
       "array([0.41333333, 0.53777778, 0.41777778, 0.45333333, 0.40444444,\n",
       "       0.50446429, 0.65178571, 0.44196429])"
      ]
     },
     "execution_count": 26,
     "metadata": {},
     "output_type": "execute_result"
    }
   ],
   "source": [
    "cross_val_score_svm"
   ]
  },
  {
   "cell_type": "code",
   "execution_count": 27,
   "id": "5c61af70",
   "metadata": {},
   "outputs": [
    {
     "data": {
      "text/plain": [
       "0.4781101190476191"
      ]
     },
     "execution_count": 27,
     "metadata": {},
     "output_type": "execute_result"
    }
   ],
   "source": [
    "cross_val_score_svm.mean()"
   ]
  },
  {
   "cell_type": "markdown",
   "id": "0116572d",
   "metadata": {},
   "source": [
    "# Random Forest performance using cross_val_score"
   ]
  },
  {
   "cell_type": "code",
   "execution_count": 30,
   "id": "c15b3425",
   "metadata": {},
   "outputs": [],
   "source": [
    "cross_val_score_rf=cross_val_score(RandomForestClassifier(n_estimators=40),digits.data, digits.target,cv=8)"
   ]
  },
  {
   "cell_type": "code",
   "execution_count": 31,
   "id": "b2cf7540",
   "metadata": {},
   "outputs": [
    {
     "data": {
      "text/plain": [
       "array([0.91111111, 0.97333333, 0.91111111, 0.94222222, 0.97333333,\n",
       "       0.97767857, 0.96428571, 0.89732143])"
      ]
     },
     "execution_count": 31,
     "metadata": {},
     "output_type": "execute_result"
    }
   ],
   "source": [
    "cross_val_score_rf"
   ]
  },
  {
   "cell_type": "code",
   "execution_count": 32,
   "id": "69c1a7d9",
   "metadata": {},
   "outputs": [
    {
     "data": {
      "text/plain": [
       "0.9437996031746032"
      ]
     },
     "execution_count": 32,
     "metadata": {},
     "output_type": "execute_result"
    }
   ],
   "source": [
    "cross_val_score_rf.mean()"
   ]
  }
 ],
 "metadata": {
  "kernelspec": {
   "display_name": "Python 3 (ipykernel)",
   "language": "python",
   "name": "python3"
  },
  "language_info": {
   "codemirror_mode": {
    "name": "ipython",
    "version": 3
   },
   "file_extension": ".py",
   "mimetype": "text/x-python",
   "name": "python",
   "nbconvert_exporter": "python",
   "pygments_lexer": "ipython3",
   "version": "3.9.12"
  }
 },
 "nbformat": 4,
 "nbformat_minor": 5
}
